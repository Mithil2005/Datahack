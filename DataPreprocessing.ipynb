{
 "cells": [
  {
   "cell_type": "code",
   "execution_count": 278,
   "metadata": {},
   "outputs": [],
   "source": [
    "import pandas as pd\n",
    "import numpy as np\n",
    "import matplotlib.pyplot as plt\n",
    "from sklearn.preprocessing import LabelEncoder\n",
    "import joblib  # To save the fitted encoder"
   ]
  },
  {
   "cell_type": "code",
   "execution_count": 230,
   "metadata": {},
   "outputs": [],
   "source": [
    "train = pd.read_csv(\"training_set_features.csv\")\n",
    "target = pd.read_csv(\"training_set_labels.csv\")\n",
    "target.head()\n",
    "test = pd.read_csv(\"test_set_features.csv\")"
   ]
  },
  {
   "cell_type": "code",
   "execution_count": 231,
   "metadata": {},
   "outputs": [],
   "source": [
    "X = train.copy()\n",
    "y1 = target[[\"xyz_vaccine\"]]\n",
    "y2 =target[[\"seasonal_vaccine\"]]\n",
    "Index = train.respondent_id"
   ]
  },
  {
   "cell_type": "code",
   "execution_count": 232,
   "metadata": {},
   "outputs": [
    {
     "data": {
      "text/plain": [
       "Index(['respondent_id', 'xyz_concern', 'xyz_knowledge',\n",
       "       'behavioral_antiviral_meds', 'behavioral_avoidance',\n",
       "       'behavioral_face_mask', 'behavioral_wash_hands',\n",
       "       'behavioral_large_gatherings', 'behavioral_outside_home',\n",
       "       'behavioral_touch_face', 'doctor_recc_xyz', 'doctor_recc_seasonal',\n",
       "       'chronic_med_condition', 'child_under_6_months', 'health_worker',\n",
       "       'health_insurance', 'opinion_xyz_vacc_effective', 'opinion_xyz_risk',\n",
       "       'opinion_xyz_sick_from_vacc', 'opinion_seas_vacc_effective',\n",
       "       'opinion_seas_risk', 'opinion_seas_sick_from_vacc', 'age_group',\n",
       "       'education', 'race', 'sex', 'income_poverty', 'marital_status',\n",
       "       'rent_or_own', 'employment_status', 'hhs_geo_region', 'census_msa',\n",
       "       'household_adults', 'household_children', 'employment_industry',\n",
       "       'employment_occupation'],\n",
       "      dtype='object')"
      ]
     },
     "execution_count": 232,
     "metadata": {},
     "output_type": "execute_result"
    }
   ],
   "source": [
    "X.columns"
   ]
  },
  {
   "cell_type": "code",
   "execution_count": 233,
   "metadata": {},
   "outputs": [],
   "source": [
    "X.drop(columns=\"respondent_id\",inplace=True)"
   ]
  },
  {
   "cell_type": "code",
   "execution_count": 235,
   "metadata": {},
   "outputs": [],
   "source": [
    "# Initialize the label encoder\n",
    "label_encoder = LabelEncoder()\n",
    "\n",
    "# Fit the label encoder on non-NaN values of the age_group column\n",
    "non_nan_values = X['education'].dropna().unique()\n",
    "label_encoder.fit(non_nan_values)\n",
    "\n",
    "joblib.dump(label_encoder, 'label_encoder.pkl')\n",
    "\n",
    "# Apply the label encoder on non-NaN values\n",
    "X['education'] = X['education'].map(lambda x: label_encoder.transform([x])[0] if pd.notna(x) else x)\n",
    "\n",
    "label_encoder = joblib.load('label_encoder.pkl')\n",
    "\n",
    "test['education'] = test['education'].map(lambda x: label_encoder.transform([x])[0] if pd.notna(x) else x)\n",
    "\n"
   ]
  },
  {
   "cell_type": "code",
   "execution_count": 236,
   "metadata": {},
   "outputs": [],
   "source": [
    "# Fit the label encoder on non-NaN values of the age_group column\n",
    "non_nan_values = X['age_group'].dropna().unique()\n",
    "label_encoder.fit(non_nan_values)\n",
    "\n",
    "joblib.dump(label_encoder, 'label_encoder.pkl')\n",
    "\n",
    "# Apply the label encoder on non-NaN values\n",
    "X['age_group'] = X['age_group'].map(lambda x: label_encoder.transform([x])[0] if pd.notna(x) else x)\n",
    "\n",
    "label_encoder = joblib.load('label_encoder.pkl')\n",
    "\n",
    "test['age_group'] = test['age_group'].map(lambda x: label_encoder.transform([x])[0] if pd.notna(x) else x)"
   ]
  },
  {
   "cell_type": "code",
   "execution_count": 237,
   "metadata": {},
   "outputs": [],
   "source": [
    "# Fit the label encoder on non-NaN values of the age_group column\n",
    "non_nan_values = X['race'].dropna().unique()\n",
    "label_encoder.fit(non_nan_values)\n",
    "\n",
    "joblib.dump(label_encoder, 'label_encoder.pkl')\n",
    "\n",
    "# Apply the label encoder on non-NaN values\n",
    "X['race'] = X['race'].map(lambda x: label_encoder.transform([x])[0] if pd.notna(x) else x)\n",
    "\n",
    "label_encoder = joblib.load('label_encoder.pkl')\n",
    "\n",
    "test['race'] = test['race'].map(lambda x: label_encoder.transform([x])[0] if pd.notna(x) else x)"
   ]
  },
  {
   "cell_type": "code",
   "execution_count": 238,
   "metadata": {},
   "outputs": [],
   "source": [
    "# Fit the label encoder on non-NaN values of the age_group column\n",
    "non_nan_values = X['sex'].dropna().unique()\n",
    "label_encoder.fit(non_nan_values)\n",
    "\n",
    "joblib.dump(label_encoder, 'label_encoder.pkl')\n",
    "\n",
    "# Apply the label encoder on non-NaN values\n",
    "X['sex'] = X['sex'].map(lambda x: label_encoder.transform([x])[0] if pd.notna(x) else x)\n",
    "\n",
    "label_encoder = joblib.load('label_encoder.pkl')\n",
    "\n",
    "test['sex'] = test['sex'].map(lambda x: label_encoder.transform([x])[0] if pd.notna(x) else x)"
   ]
  },
  {
   "cell_type": "code",
   "execution_count": 239,
   "metadata": {},
   "outputs": [],
   "source": [
    "# Fit the label encoder on non-NaN values of the age_group column\n",
    "non_nan_values = X['income_poverty'].dropna().unique()\n",
    "label_encoder.fit(non_nan_values)\n",
    "\n",
    "joblib.dump(label_encoder, 'label_encoder.pkl')\n",
    "\n",
    "# Apply the label encoder on non-NaN values\n",
    "X['income_poverty'] = X['income_poverty'].map(lambda x: label_encoder.transform([x])[0] if pd.notna(x) else x)\n",
    "\n",
    "label_encoder = joblib.load('label_encoder.pkl')\n",
    "\n",
    "test['income_poverty'] = test['income_poverty'].map(lambda x: label_encoder.transform([x])[0] if pd.notna(x) else x)"
   ]
  },
  {
   "cell_type": "code",
   "execution_count": 240,
   "metadata": {},
   "outputs": [],
   "source": [
    "# Fit the label encoder on non-NaN values of the age_group column\n",
    "non_nan_values = X['marital_status'].dropna().unique()\n",
    "label_encoder.fit(non_nan_values)\n",
    "\n",
    "joblib.dump(label_encoder, 'label_encoder.pkl')\n",
    "\n",
    "# Apply the label encoder on non-NaN values\n",
    "X['marital_status'] = X['marital_status'].map(lambda x: label_encoder.transform([x])[0] if pd.notna(x) else x)\n",
    "\n",
    "label_encoder = joblib.load('label_encoder.pkl')\n",
    "\n",
    "test['marital_status'] = test['marital_status'].map(lambda x: label_encoder.transform([x])[0] if pd.notna(x) else x)"
   ]
  },
  {
   "cell_type": "code",
   "execution_count": 241,
   "metadata": {},
   "outputs": [],
   "source": [
    "# Fit the label encoder on non-NaN values of the age_group column\n",
    "non_nan_values = X['rent_or_own'].dropna().unique()\n",
    "label_encoder.fit(non_nan_values)\n",
    "\n",
    "joblib.dump(label_encoder, 'label_encoder.pkl')\n",
    "\n",
    "# Apply the label encoder on non-NaN values\n",
    "X['rent_or_own'] = X['rent_or_own'].map(lambda x: label_encoder.transform([x])[0] if pd.notna(x) else x)\n",
    "\n",
    "label_encoder = joblib.load('label_encoder.pkl')\n",
    "\n",
    "test['rent_or_own'] = test['rent_or_own'].map(lambda x: label_encoder.transform([x])[0] if pd.notna(x) else x)"
   ]
  },
  {
   "cell_type": "code",
   "execution_count": 242,
   "metadata": {},
   "outputs": [],
   "source": [
    "# Fit the label encoder on non-NaN values of the age_group column\n",
    "non_nan_values = X['employment_status'].dropna().unique()\n",
    "label_encoder.fit(non_nan_values)\n",
    "\n",
    "joblib.dump(label_encoder, 'label_encoder.pkl')\n",
    "\n",
    "# Apply the label encoder on non-NaN values\n",
    "X['employment_status'] = X['employment_status'].map(lambda x: label_encoder.transform([x])[0] if pd.notna(x) else x)\n",
    "\n",
    "label_encoder = joblib.load('label_encoder.pkl')\n",
    "\n",
    "test['employment_status'] = test['employment_status'].map(lambda x: label_encoder.transform([x])[0] if pd.notna(x) else x)"
   ]
  },
  {
   "cell_type": "code",
   "execution_count": 243,
   "metadata": {},
   "outputs": [],
   "source": [
    "# Fit the label encoder on non-NaN values of the age_group column\n",
    "non_nan_values = X['hhs_geo_region'].dropna().unique()\n",
    "label_encoder.fit(non_nan_values)\n",
    "\n",
    "joblib.dump(label_encoder, 'label_encoder.pkl')\n",
    "\n",
    "# Apply the label encoder on non-NaN values\n",
    "X['hhs_geo_region'] = X['hhs_geo_region'].map(lambda x: label_encoder.transform([x])[0] if pd.notna(x) else x)\n",
    "\n",
    "label_encoder = joblib.load('label_encoder.pkl')\n",
    "\n",
    "test['hhs_geo_region'] = test['hhs_geo_region'].map(lambda x: label_encoder.transform([x])[0] if pd.notna(x) else x)"
   ]
  },
  {
   "cell_type": "code",
   "execution_count": 244,
   "metadata": {},
   "outputs": [],
   "source": [
    "# Fit the label encoder on non-NaN values of the age_group column\n",
    "non_nan_values = X['employment_industry'].dropna().unique()\n",
    "label_encoder.fit(non_nan_values)\n",
    "\n",
    "joblib.dump(label_encoder, 'label_encoder.pkl')\n",
    "\n",
    "# Apply the label encoder on non-NaN values\n",
    "X['employment_industry'] = X['employment_industry'].map(lambda x: label_encoder.transform([x])[0] if pd.notna(x) else x)\n",
    "\n",
    "label_encoder = joblib.load('label_encoder.pkl')\n",
    "\n",
    "test['employment_industry'] = test['employment_industry'].map(lambda x: label_encoder.transform([x])[0] if pd.notna(x) else x)"
   ]
  },
  {
   "cell_type": "code",
   "execution_count": 245,
   "metadata": {},
   "outputs": [],
   "source": [
    "# Fit the label encoder on non-NaN values of the age_group column\n",
    "non_nan_values = X['employment_occupation'].dropna().unique()\n",
    "label_encoder.fit(non_nan_values)\n",
    "\n",
    "joblib.dump(label_encoder, 'label_encoder.pkl')\n",
    "\n",
    "# Apply the label encoder on non-NaN values\n",
    "X['employment_occupation'] = X['employment_occupation'].map(lambda x: label_encoder.transform([x])[0] if pd.notna(x) else x)\n",
    "\n",
    "label_encoder = joblib.load('label_encoder.pkl')\n",
    "\n",
    "test['employment_occupation'] = test['employment_occupation'].map(lambda x: label_encoder.transform([x])[0] if pd.notna(x) else x)"
   ]
  },
  {
   "cell_type": "code",
   "execution_count": 246,
   "metadata": {},
   "outputs": [],
   "source": [
    "# Fit the label encoder on non-NaN values of the age_group column\n",
    "non_nan_values = X['census_msa'].dropna().unique()\n",
    "label_encoder.fit(non_nan_values)\n",
    "\n",
    "joblib.dump(label_encoder, 'label_encoder.pkl')\n",
    "\n",
    "# Apply the label encoder on non-NaN values\n",
    "X['census_msa'] = X['census_msa'].map(lambda x: label_encoder.transform([x])[0] if pd.notna(x) else x)\n",
    "\n",
    "label_encoder = joblib.load('label_encoder.pkl')\n",
    "\n",
    "test['census_msa'] = test['census_msa'].map(lambda x: label_encoder.transform([x])[0] if pd.notna(x) else x)"
   ]
  },
  {
   "cell_type": "code",
   "execution_count": 247,
   "metadata": {},
   "outputs": [],
   "source": [
    "X.to_csv(\"training_features_encoded.csv\")\n",
    "test.to_csv(\"test_features_encoded.csv\")"
   ]
  }
 ],
 "metadata": {
  "kernelspec": {
   "display_name": "Python 3",
   "language": "python",
   "name": "python3"
  },
  "language_info": {
   "codemirror_mode": {
    "name": "ipython",
    "version": 3
   },
   "file_extension": ".py",
   "mimetype": "text/x-python",
   "name": "python",
   "nbconvert_exporter": "python",
   "pygments_lexer": "ipython3",
   "version": "3.12.3"
  }
 },
 "nbformat": 4,
 "nbformat_minor": 2
}
